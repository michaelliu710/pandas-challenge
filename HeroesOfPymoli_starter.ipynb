{
 "cells": [
  {
   "cell_type": "markdown",
   "metadata": {},
   "source": [
    "### Note\n",
    "* Instructions have been included for each segment. You do not have to follow them exactly, but they are included to help you think through the steps."
   ]
  },
  {
   "cell_type": "code",
   "execution_count": 27,
   "metadata": {},
   "outputs": [],
   "source": [
    "# Dependencies and Setup\n",
    "import pandas as pd\n",
    "import numpy as np\n",
    "\n",
    "# File to Load (Remember to Change These)\n",
    "file_to_load = \"Resources/purchase_data.csv\"\n",
    "\n",
    "# Read Purchasing File and store into Pandas data frame\n",
    "purchase_data = pd.read_csv(file_to_load)"
   ]
  },
  {
   "cell_type": "markdown",
   "metadata": {},
   "source": [
    "## Player Count"
   ]
  },
  {
   "cell_type": "markdown",
   "metadata": {},
   "source": [
    "* Display the total number of players\n"
   ]
  },
  {
   "cell_type": "code",
   "execution_count": 13,
   "metadata": {},
   "outputs": [
    {
     "name": "stdout",
     "output_type": "stream",
     "text": [
      "Total player: 576\n"
     ]
    }
   ],
   "source": [
    "total_players = purchase_data[\"SN\"].nunique()\n",
    "print(f\"Total player: {total_players}\")"
   ]
  },
  {
   "cell_type": "markdown",
   "metadata": {},
   "source": [
    "## Purchasing Analysis (Total)"
   ]
  },
  {
   "cell_type": "markdown",
   "metadata": {},
   "source": [
    "* Run basic calculations to obtain number of unique items, average price, etc.\n",
    "\n",
    "\n",
    "* Create a summary data frame to hold the results\n",
    "\n",
    "\n",
    "* Optional: give the displayed data cleaner formatting\n",
    "\n",
    "\n",
    "* Display the summary data frame\n"
   ]
  },
  {
   "cell_type": "code",
   "execution_count": 17,
   "metadata": {
    "scrolled": true
   },
   "outputs": [
    {
     "data": {
      "text/html": [
       "<div>\n",
       "<style scoped>\n",
       "    .dataframe tbody tr th:only-of-type {\n",
       "        vertical-align: middle;\n",
       "    }\n",
       "\n",
       "    .dataframe tbody tr th {\n",
       "        vertical-align: top;\n",
       "    }\n",
       "\n",
       "    .dataframe thead th {\n",
       "        text-align: right;\n",
       "    }\n",
       "</style>\n",
       "<table border=\"1\" class=\"dataframe\">\n",
       "  <thead>\n",
       "    <tr style=\"text-align: right;\">\n",
       "      <th></th>\n",
       "      <th>Number of Unique Items</th>\n",
       "      <th>Average Purchase Price</th>\n",
       "      <th>Total Number of Purchases</th>\n",
       "      <th>Total Revenue</th>\n",
       "    </tr>\n",
       "  </thead>\n",
       "  <tbody>\n",
       "    <tr>\n",
       "      <th>0</th>\n",
       "      <td>179</td>\n",
       "      <td>$3.05</td>\n",
       "      <td>780</td>\n",
       "      <td>$2,379.77</td>\n",
       "    </tr>\n",
       "  </tbody>\n",
       "</table>\n",
       "</div>"
      ],
      "text/plain": [
       "   Number of Unique Items Average Purchase Price  Total Number of Purchases  \\\n",
       "0                     179                  $3.05                        780   \n",
       "\n",
       "  Total Revenue  \n",
       "0     $2,379.77  "
      ]
     },
     "execution_count": 17,
     "metadata": {},
     "output_type": "execute_result"
    }
   ],
   "source": [
    "number_unique_items = purchase_data[\"Item ID\"].nunique()\n",
    "average_price = purchase_data[\"Price\"].mean()\n",
    "total_num_purchases = purchase_data[\"Purchase ID\"].count()\n",
    "total_revenue = purchase_data[\"Price\"].sum()\n",
    "\n",
    "purchase_analysis = pd.DataFrame({\"Number of Unique Items\":[number_unique_items],\n",
    "                            \"Average Purchase Price\": [average_price],\n",
    "                             \"Total Number of Purchases\":[total_num_purchases],\n",
    "                             \"Total Revenue\":[total_revenue]})\n",
    "\n",
    "purchase_analysis[\"Total Revenue\"] = purchase_analysis[\"Total Revenue\"].map(\"${:,.2f}\".format)\n",
    "purchase_analysis[\"Average Purchase Price\"] = purchase_analysis[\"Average Purchase Price\"].map(\"${:.2f}\".format)\n",
    "\n",
    "\n",
    "purchase_analysis"
   ]
  },
  {
   "cell_type": "markdown",
   "metadata": {},
   "source": [
    "## Gender Demographics"
   ]
  },
  {
   "cell_type": "markdown",
   "metadata": {},
   "source": [
    "* Percentage and Count of Male Players\n",
    "\n",
    "\n",
    "* Percentage and Count of Female Players\n",
    "\n",
    "\n",
    "* Percentage and Count of Other / Non-Disclosed\n",
    "\n"
   ]
  },
  {
   "cell_type": "code",
   "execution_count": 33,
   "metadata": {},
   "outputs": [
    {
     "data": {
      "text/html": [
       "<div>\n",
       "<style scoped>\n",
       "    .dataframe tbody tr th:only-of-type {\n",
       "        vertical-align: middle;\n",
       "    }\n",
       "\n",
       "    .dataframe tbody tr th {\n",
       "        vertical-align: top;\n",
       "    }\n",
       "\n",
       "    .dataframe thead th {\n",
       "        text-align: right;\n",
       "    }\n",
       "</style>\n",
       "<table border=\"1\" class=\"dataframe\">\n",
       "  <thead>\n",
       "    <tr style=\"text-align: right;\">\n",
       "      <th></th>\n",
       "      <th>Total Count</th>\n",
       "      <th>Percentage</th>\n",
       "    </tr>\n",
       "  </thead>\n",
       "  <tbody>\n",
       "    <tr>\n",
       "      <th>[Male]</th>\n",
       "      <td>484</td>\n",
       "      <td>84.03%</td>\n",
       "    </tr>\n",
       "    <tr>\n",
       "      <th>[Female]</th>\n",
       "      <td>81</td>\n",
       "      <td>14.06%</td>\n",
       "    </tr>\n",
       "    <tr>\n",
       "      <th>[Other / Non-Disclosed]</th>\n",
       "      <td>11</td>\n",
       "      <td>1.91%</td>\n",
       "    </tr>\n",
       "  </tbody>\n",
       "</table>\n",
       "</div>"
      ],
      "text/plain": [
       "                         Total Count Percentage\n",
       "[Male]                           484     84.03%\n",
       "[Female]                          81     14.06%\n",
       "[Other / Non-Disclosed]           11      1.91%"
      ]
     },
     "execution_count": 33,
     "metadata": {},
     "output_type": "execute_result"
    }
   ],
   "source": [
    "gender_demographics = purchase_data.groupby(\"SN\")\n",
    "gender_demographics_df = pd.DataFrame(gender_demographics[\"Gender\"].unique().value_counts())\n",
    "gender_demographics_df[\"Percentage\"]=(gender_demographics_df[\"Gender\"]/total_players*100).map(\"{:,.2f}%\".format)\n",
    "gender_demographics_df = gender_demographics_df.rename(columns={\"Gender\":\"Total Count\"})\n",
    "gender_demographics_df"
   ]
  },
  {
   "cell_type": "markdown",
   "metadata": {},
   "source": [
    "\n",
    "## Purchasing Analysis (Gender)"
   ]
  },
  {
   "cell_type": "markdown",
   "metadata": {},
   "source": [
    "* Run basic calculations to obtain purchase count, avg. purchase price, avg. purchase total per person etc. by gender\n",
    "\n",
    "\n",
    "\n",
    "\n",
    "* Create a summary data frame to hold the results\n",
    "\n",
    "\n",
    "* Optional: give the displayed data cleaner formatting\n",
    "\n",
    "\n",
    "* Display the summary data frame"
   ]
  },
  {
   "cell_type": "code",
   "execution_count": 36,
   "metadata": {},
   "outputs": [
    {
     "data": {
      "text/html": [
       "<style  type=\"text/css\" >\n",
       "</style><table id=\"T_6113b_\" ><thead>    <tr>        <th class=\"blank level0\" ></th>        <th class=\"col_heading level0 col0\" >Purchase Count</th>        <th class=\"col_heading level0 col1\" >Average Purchase Price</th>        <th class=\"col_heading level0 col2\" >Total Purchase Value</th>        <th class=\"col_heading level0 col3\" >Average Purchase Total per Person</th>    </tr>    <tr>        <th class=\"index_name level0\" >Gender</th>        <th class=\"blank\" ></th>        <th class=\"blank\" ></th>        <th class=\"blank\" ></th>        <th class=\"blank\" ></th>    </tr></thead><tbody>\n",
       "                <tr>\n",
       "                        <th id=\"T_6113b_level0_row0\" class=\"row_heading level0 row0\" >Female</th>\n",
       "                        <td id=\"T_6113b_row0_col0\" class=\"data row0 col0\" >113</td>\n",
       "                        <td id=\"T_6113b_row0_col1\" class=\"data row0 col1\" >$3.20</td>\n",
       "                        <td id=\"T_6113b_row0_col2\" class=\"data row0 col2\" >$361.94</td>\n",
       "                        <td id=\"T_6113b_row0_col3\" class=\"data row0 col3\" >$4.47</td>\n",
       "            </tr>\n",
       "            <tr>\n",
       "                        <th id=\"T_6113b_level0_row1\" class=\"row_heading level0 row1\" >Male</th>\n",
       "                        <td id=\"T_6113b_row1_col0\" class=\"data row1 col0\" >652</td>\n",
       "                        <td id=\"T_6113b_row1_col1\" class=\"data row1 col1\" >$3.02</td>\n",
       "                        <td id=\"T_6113b_row1_col2\" class=\"data row1 col2\" >$1,967.64</td>\n",
       "                        <td id=\"T_6113b_row1_col3\" class=\"data row1 col3\" >$4.07</td>\n",
       "            </tr>\n",
       "            <tr>\n",
       "                        <th id=\"T_6113b_level0_row2\" class=\"row_heading level0 row2\" >Other / Non-Disclosed</th>\n",
       "                        <td id=\"T_6113b_row2_col0\" class=\"data row2 col0\" >15</td>\n",
       "                        <td id=\"T_6113b_row2_col1\" class=\"data row2 col1\" >$3.35</td>\n",
       "                        <td id=\"T_6113b_row2_col2\" class=\"data row2 col2\" >$50.19</td>\n",
       "                        <td id=\"T_6113b_row2_col3\" class=\"data row2 col3\" >$4.56</td>\n",
       "            </tr>\n",
       "    </tbody></table>"
      ],
      "text/plain": [
       "<pandas.io.formats.style.Styler at 0x1c0293e6550>"
      ]
     },
     "execution_count": 36,
     "metadata": {},
     "output_type": "execute_result"
    }
   ],
   "source": [
    "genders= purchase_data.groupby(['Gender'])\n",
    "gender_count = genders_df.nunique()['SN']\n",
    "\n",
    "purchase_count = genders['Purchase ID'].count()\n",
    "\n",
    "average_purchase_price = genders['Price'].mean()\n",
    "mean_purchase_total = genders['Price'].sum()\n",
    "\n",
    "average_purchase_per_person = mean_purchase_total / gender_count\n",
    "\n",
    "gender_analysis = pd.DataFrame({'Purchase Count': purchase_count,\n",
    "                               'Average Purchase Price': average_purchase_price,\n",
    "                               'Total Purchase Value': mean_purchase_total,\n",
    "                               'Average Purchase Total per Person': average_purchase_per_person})\n",
    "\n",
    "gender_analysis.index.name = \"Gender\"\n",
    "\n",
    "gender_analysis.style.format({\"Total Purchase Value\":\"${:,.2f}\",\n",
    "                                  \"Average Purchase Price\":\"${:,.2f}\",\n",
    "                                  \"Average Purchase Total per Person\":\"${:,.2f}\"})"
   ]
  },
  {
   "cell_type": "markdown",
   "metadata": {},
   "source": [
    "## Age Demographics"
   ]
  },
  {
   "cell_type": "markdown",
   "metadata": {},
   "source": [
    "* Establish bins for ages\n",
    "\n",
    "\n",
    "* Categorize the existing players using the age bins. Hint: use pd.cut()\n",
    "\n",
    "\n",
    "* Calculate the numbers and percentages by age group\n",
    "\n",
    "\n",
    "* Create a summary data frame to hold the results\n",
    "\n",
    "\n",
    "* Optional: round the percentage column to two decimal points\n",
    "\n",
    "\n",
    "* Display Age Demographics Table\n"
   ]
  },
  {
   "cell_type": "code",
   "execution_count": 51,
   "metadata": {},
   "outputs": [
    {
     "data": {
      "text/html": [
       "<style  type=\"text/css\" >\n",
       "</style><table id=\"T_5577e_\" ><thead>    <tr>        <th class=\"blank level0\" ></th>        <th class=\"col_heading level0 col0\" >Total Count</th>        <th class=\"col_heading level0 col1\" >Percentage of Players</th>    </tr></thead><tbody>\n",
       "                <tr>\n",
       "                        <th id=\"T_5577e_level0_row0\" class=\"row_heading level0 row0\" ><10</th>\n",
       "                        <td id=\"T_5577e_row0_col0\" class=\"data row0 col0\" >17</td>\n",
       "                        <td id=\"T_5577e_row0_col1\" class=\"data row0 col1\" >2.95%</td>\n",
       "            </tr>\n",
       "            <tr>\n",
       "                        <th id=\"T_5577e_level0_row1\" class=\"row_heading level0 row1\" >10-14</th>\n",
       "                        <td id=\"T_5577e_row1_col0\" class=\"data row1 col0\" >22</td>\n",
       "                        <td id=\"T_5577e_row1_col1\" class=\"data row1 col1\" >3.82%</td>\n",
       "            </tr>\n",
       "            <tr>\n",
       "                        <th id=\"T_5577e_level0_row2\" class=\"row_heading level0 row2\" >15-19</th>\n",
       "                        <td id=\"T_5577e_row2_col0\" class=\"data row2 col0\" >107</td>\n",
       "                        <td id=\"T_5577e_row2_col1\" class=\"data row2 col1\" >18.58%</td>\n",
       "            </tr>\n",
       "            <tr>\n",
       "                        <th id=\"T_5577e_level0_row3\" class=\"row_heading level0 row3\" >20-24</th>\n",
       "                        <td id=\"T_5577e_row3_col0\" class=\"data row3 col0\" >258</td>\n",
       "                        <td id=\"T_5577e_row3_col1\" class=\"data row3 col1\" >44.79%</td>\n",
       "            </tr>\n",
       "            <tr>\n",
       "                        <th id=\"T_5577e_level0_row4\" class=\"row_heading level0 row4\" >25-29</th>\n",
       "                        <td id=\"T_5577e_row4_col0\" class=\"data row4 col0\" >77</td>\n",
       "                        <td id=\"T_5577e_row4_col1\" class=\"data row4 col1\" >13.37%</td>\n",
       "            </tr>\n",
       "            <tr>\n",
       "                        <th id=\"T_5577e_level0_row5\" class=\"row_heading level0 row5\" >30-34</th>\n",
       "                        <td id=\"T_5577e_row5_col0\" class=\"data row5 col0\" >52</td>\n",
       "                        <td id=\"T_5577e_row5_col1\" class=\"data row5 col1\" >9.03%</td>\n",
       "            </tr>\n",
       "            <tr>\n",
       "                        <th id=\"T_5577e_level0_row6\" class=\"row_heading level0 row6\" >35-39</th>\n",
       "                        <td id=\"T_5577e_row6_col0\" class=\"data row6 col0\" >31</td>\n",
       "                        <td id=\"T_5577e_row6_col1\" class=\"data row6 col1\" >5.38%</td>\n",
       "            </tr>\n",
       "            <tr>\n",
       "                        <th id=\"T_5577e_level0_row7\" class=\"row_heading level0 row7\" >40+</th>\n",
       "                        <td id=\"T_5577e_row7_col0\" class=\"data row7 col0\" >12</td>\n",
       "                        <td id=\"T_5577e_row7_col1\" class=\"data row7 col1\" >2.08%</td>\n",
       "            </tr>\n",
       "    </tbody></table>"
      ],
      "text/plain": [
       "<pandas.io.formats.style.Styler at 0x1c0293454c0>"
      ]
     },
     "execution_count": 51,
     "metadata": {},
     "output_type": "execute_result"
    }
   ],
   "source": [
    "age_bins = [0, 9.99, 14.99, 19.99, 24.99, 29.99, 34.99, 39.99, 500]\n",
    "labels = [\"<10\", \"10-14\", \"15-19\", \"20-24\", \"25-29\", \"30-34\", \"35-39\", \"40+\"]\n",
    "\n",
    "purchase_data['Age Group'] = pd.cut(purchase_data[\"Age\"], age_bins, labels=labels)\n",
    "\n",
    "age_bin_df = purchase_data.groupby('Age Group')\n",
    "age_count_categories = age_bin_df['SN'].nunique()\n",
    "age_percentage = (age_count_categories / total_players) * 100\n",
    "age_demographics_df = pd.DataFrame({'Total Count': age_count_categories,\n",
    "                                    \"Percentage of Players\": age_percentage})\n",
    "age_demographics_df.index.name = None\n",
    "age_demographics_df.style.format({'Percentage of Players': \"{:,.2f}%\"})"
   ]
  },
  {
   "cell_type": "markdown",
   "metadata": {},
   "source": [
    "## Purchasing Analysis (Age)"
   ]
  },
  {
   "cell_type": "markdown",
   "metadata": {},
   "source": [
    "* Bin the purchase_data data frame by age\n",
    "\n",
    "\n",
    "* Run basic calculations to obtain purchase count, avg. purchase price, avg. purchase total per person etc. in the table below\n",
    "\n",
    "\n",
    "* Create a summary data frame to hold the results\n",
    "\n",
    "\n",
    "* Optional: give the displayed data cleaner formatting\n",
    "\n",
    "\n",
    "* Display the summary data frame"
   ]
  },
  {
   "cell_type": "code",
   "execution_count": 50,
   "metadata": {},
   "outputs": [
    {
     "data": {
      "text/html": [
       "<style  type=\"text/css\" >\n",
       "</style><table id=\"T_ab620_\" ><thead>    <tr>        <th class=\"blank level0\" ></th>        <th class=\"col_heading level0 col0\" >Purchase Count</th>        <th class=\"col_heading level0 col1\" >Average Purchase Price</th>        <th class=\"col_heading level0 col2\" >Total Purchase Value</th>        <th class=\"col_heading level0 col3\" >Average Purchase Total per Person</th>    </tr></thead><tbody>\n",
       "                <tr>\n",
       "                        <th id=\"T_ab620_level0_row0\" class=\"row_heading level0 row0\" ><10</th>\n",
       "                        <td id=\"T_ab620_row0_col0\" class=\"data row0 col0\" >23</td>\n",
       "                        <td id=\"T_ab620_row0_col1\" class=\"data row0 col1\" >$3.35</td>\n",
       "                        <td id=\"T_ab620_row0_col2\" class=\"data row0 col2\" >$77.13</td>\n",
       "                        <td id=\"T_ab620_row0_col3\" class=\"data row0 col3\" >$4.54</td>\n",
       "            </tr>\n",
       "            <tr>\n",
       "                        <th id=\"T_ab620_level0_row1\" class=\"row_heading level0 row1\" >10-14</th>\n",
       "                        <td id=\"T_ab620_row1_col0\" class=\"data row1 col0\" >28</td>\n",
       "                        <td id=\"T_ab620_row1_col1\" class=\"data row1 col1\" >$2.96</td>\n",
       "                        <td id=\"T_ab620_row1_col2\" class=\"data row1 col2\" >$82.78</td>\n",
       "                        <td id=\"T_ab620_row1_col3\" class=\"data row1 col3\" >$3.76</td>\n",
       "            </tr>\n",
       "            <tr>\n",
       "                        <th id=\"T_ab620_level0_row2\" class=\"row_heading level0 row2\" >15-19</th>\n",
       "                        <td id=\"T_ab620_row2_col0\" class=\"data row2 col0\" >136</td>\n",
       "                        <td id=\"T_ab620_row2_col1\" class=\"data row2 col1\" >$3.04</td>\n",
       "                        <td id=\"T_ab620_row2_col2\" class=\"data row2 col2\" >$412.89</td>\n",
       "                        <td id=\"T_ab620_row2_col3\" class=\"data row2 col3\" >$3.86</td>\n",
       "            </tr>\n",
       "            <tr>\n",
       "                        <th id=\"T_ab620_level0_row3\" class=\"row_heading level0 row3\" >20-24</th>\n",
       "                        <td id=\"T_ab620_row3_col0\" class=\"data row3 col0\" >365</td>\n",
       "                        <td id=\"T_ab620_row3_col1\" class=\"data row3 col1\" >$3.05</td>\n",
       "                        <td id=\"T_ab620_row3_col2\" class=\"data row3 col2\" >$1,114.06</td>\n",
       "                        <td id=\"T_ab620_row3_col3\" class=\"data row3 col3\" >$4.32</td>\n",
       "            </tr>\n",
       "            <tr>\n",
       "                        <th id=\"T_ab620_level0_row4\" class=\"row_heading level0 row4\" >25-29</th>\n",
       "                        <td id=\"T_ab620_row4_col0\" class=\"data row4 col0\" >101</td>\n",
       "                        <td id=\"T_ab620_row4_col1\" class=\"data row4 col1\" >$2.90</td>\n",
       "                        <td id=\"T_ab620_row4_col2\" class=\"data row4 col2\" >$293.00</td>\n",
       "                        <td id=\"T_ab620_row4_col3\" class=\"data row4 col3\" >$3.81</td>\n",
       "            </tr>\n",
       "            <tr>\n",
       "                        <th id=\"T_ab620_level0_row5\" class=\"row_heading level0 row5\" >30-34</th>\n",
       "                        <td id=\"T_ab620_row5_col0\" class=\"data row5 col0\" >73</td>\n",
       "                        <td id=\"T_ab620_row5_col1\" class=\"data row5 col1\" >$2.93</td>\n",
       "                        <td id=\"T_ab620_row5_col2\" class=\"data row5 col2\" >$214.00</td>\n",
       "                        <td id=\"T_ab620_row5_col3\" class=\"data row5 col3\" >$4.12</td>\n",
       "            </tr>\n",
       "            <tr>\n",
       "                        <th id=\"T_ab620_level0_row6\" class=\"row_heading level0 row6\" >35-39</th>\n",
       "                        <td id=\"T_ab620_row6_col0\" class=\"data row6 col0\" >41</td>\n",
       "                        <td id=\"T_ab620_row6_col1\" class=\"data row6 col1\" >$3.60</td>\n",
       "                        <td id=\"T_ab620_row6_col2\" class=\"data row6 col2\" >$147.67</td>\n",
       "                        <td id=\"T_ab620_row6_col3\" class=\"data row6 col3\" >$4.76</td>\n",
       "            </tr>\n",
       "            <tr>\n",
       "                        <th id=\"T_ab620_level0_row7\" class=\"row_heading level0 row7\" >40+</th>\n",
       "                        <td id=\"T_ab620_row7_col0\" class=\"data row7 col0\" >13</td>\n",
       "                        <td id=\"T_ab620_row7_col1\" class=\"data row7 col1\" >$2.94</td>\n",
       "                        <td id=\"T_ab620_row7_col2\" class=\"data row7 col2\" >$38.24</td>\n",
       "                        <td id=\"T_ab620_row7_col3\" class=\"data row7 col3\" >$3.19</td>\n",
       "            </tr>\n",
       "    </tbody></table>"
      ],
      "text/plain": [
       "<pandas.io.formats.style.Styler at 0x1c02a3de880>"
      ]
     },
     "execution_count": 50,
     "metadata": {},
     "output_type": "execute_result"
    }
   ],
   "source": [
    "purchase_count_age = age_bin_df[\"Purchase ID\"].count()\n",
    "\n",
    "mean_purchase_price_age = age_bin_df[\"Price\"].mean()\n",
    "\n",
    "total_purchase_value = age_bin_df[\"Price\"].sum()\n",
    "\n",
    "mean_purchase_per_person_age = total_purchase_value/age_count_categories\n",
    "\n",
    "age_demographics = pd.DataFrame({\"Purchase Count\": purchase_count_age,\n",
    "                                 \"Average Purchase Price\": mean_purchase_price_age,\n",
    "                                 \"Total Purchase Value\":total_purchase_value,\n",
    "                                 \"Average Purchase Total per Person\": mean_purchase_per_person_age})\n",
    "\n",
    "age_demographics.index.name = None\n",
    "\n",
    "age_demographics.style.format({\"Average Purchase Price\":\"${:,.2f}\",\n",
    "                               \"Total Purchase Value\":\"${:,.2f}\",\n",
    "                               \"Average Purchase Total per Person\":\"${:,.2f}\"})"
   ]
  },
  {
   "cell_type": "markdown",
   "metadata": {},
   "source": [
    "## Top Spenders"
   ]
  },
  {
   "cell_type": "markdown",
   "metadata": {},
   "source": [
    "* Run basic calculations to obtain the results in the table below\n",
    "\n",
    "\n",
    "* Create a summary data frame to hold the results\n",
    "\n",
    "\n",
    "* Sort the total purchase value column in descending order\n",
    "\n",
    "\n",
    "* Optional: give the displayed data cleaner formatting\n",
    "\n",
    "\n",
    "* Display a preview of the summary data frame\n",
    "\n"
   ]
  },
  {
   "cell_type": "code",
   "execution_count": 45,
   "metadata": {},
   "outputs": [
    {
     "data": {
      "text/html": [
       "<style  type=\"text/css\" >\n",
       "</style><table id=\"T_cd738_\" ><thead>    <tr>        <th class=\"blank level0\" ></th>        <th class=\"col_heading level0 col0\" >Purchase Count</th>        <th class=\"col_heading level0 col1\" >Average Purchase Price</th>        <th class=\"col_heading level0 col2\" >Total Purchase Value</th>    </tr>    <tr>        <th class=\"index_name level0\" >SN</th>        <th class=\"blank\" ></th>        <th class=\"blank\" ></th>        <th class=\"blank\" ></th>    </tr></thead><tbody>\n",
       "                <tr>\n",
       "                        <th id=\"T_cd738_level0_row0\" class=\"row_heading level0 row0\" >Lisosia93</th>\n",
       "                        <td id=\"T_cd738_row0_col0\" class=\"data row0 col0\" >5</td>\n",
       "                        <td id=\"T_cd738_row0_col1\" class=\"data row0 col1\" >$3.79</td>\n",
       "                        <td id=\"T_cd738_row0_col2\" class=\"data row0 col2\" >$18.96</td>\n",
       "            </tr>\n",
       "            <tr>\n",
       "                        <th id=\"T_cd738_level0_row1\" class=\"row_heading level0 row1\" >Idastidru52</th>\n",
       "                        <td id=\"T_cd738_row1_col0\" class=\"data row1 col0\" >4</td>\n",
       "                        <td id=\"T_cd738_row1_col1\" class=\"data row1 col1\" >$3.86</td>\n",
       "                        <td id=\"T_cd738_row1_col2\" class=\"data row1 col2\" >$15.45</td>\n",
       "            </tr>\n",
       "            <tr>\n",
       "                        <th id=\"T_cd738_level0_row2\" class=\"row_heading level0 row2\" >Chamjask73</th>\n",
       "                        <td id=\"T_cd738_row2_col0\" class=\"data row2 col0\" >3</td>\n",
       "                        <td id=\"T_cd738_row2_col1\" class=\"data row2 col1\" >$4.61</td>\n",
       "                        <td id=\"T_cd738_row2_col2\" class=\"data row2 col2\" >$13.83</td>\n",
       "            </tr>\n",
       "            <tr>\n",
       "                        <th id=\"T_cd738_level0_row3\" class=\"row_heading level0 row3\" >Iral74</th>\n",
       "                        <td id=\"T_cd738_row3_col0\" class=\"data row3 col0\" >4</td>\n",
       "                        <td id=\"T_cd738_row3_col1\" class=\"data row3 col1\" >$3.40</td>\n",
       "                        <td id=\"T_cd738_row3_col2\" class=\"data row3 col2\" >$13.62</td>\n",
       "            </tr>\n",
       "            <tr>\n",
       "                        <th id=\"T_cd738_level0_row4\" class=\"row_heading level0 row4\" >Iskadarya95</th>\n",
       "                        <td id=\"T_cd738_row4_col0\" class=\"data row4 col0\" >3</td>\n",
       "                        <td id=\"T_cd738_row4_col1\" class=\"data row4 col1\" >$4.37</td>\n",
       "                        <td id=\"T_cd738_row4_col2\" class=\"data row4 col2\" >$13.10</td>\n",
       "            </tr>\n",
       "    </tbody></table>"
      ],
      "text/plain": [
       "<pandas.io.formats.style.Styler at 0x1c0293e6760>"
      ]
     },
     "execution_count": 45,
     "metadata": {},
     "output_type": "execute_result"
    }
   ],
   "source": [
    "sn_grouped = purchase_data.groupby('SN')\n",
    "\n",
    "purchase_count_sn = sn_grouped['Purchase ID'].count()\n",
    "\n",
    "mean_purchase_price_sn = sn_grouped['Price'].mean()\n",
    "\n",
    "purchase_total_sn = sn_grouped['Price'].sum()\n",
    "\n",
    "\n",
    "top_spenders_df = pd.DataFrame({'Purchase Count': purchase_count_sn, \n",
    "                               'Average Purchase Price': mean_purchase_price_sn,\n",
    "                               'Total Purchase Value': purchase_total_sn})\n",
    "\n",
    "formatted_top_spenders_df = top_spenders_df.sort_values([\"Total Purchase Value\"], ascending=False).head()\n",
    "\n",
    "formatted_top_spenders_df.style.format({\"Average Purchase Total\":\"${:,.2f}\",\n",
    "                                 \"Average Purchase Price\":\"${:,.2f}\", \n",
    "                                 \"Total Purchase Value\":\"${:,.2f}\"})"
   ]
  },
  {
   "cell_type": "markdown",
   "metadata": {},
   "source": [
    "## Most Popular Items"
   ]
  },
  {
   "cell_type": "markdown",
   "metadata": {},
   "source": [
    "* Retrieve the Item ID, Item Name, and Item Price columns\n",
    "\n",
    "\n",
    "* Group by Item ID and Item Name. Perform calculations to obtain purchase count, average item price, and total purchase value\n",
    "\n",
    "\n",
    "* Create a summary data frame to hold the results\n",
    "\n",
    "\n",
    "* Sort the purchase count column in descending order\n",
    "\n",
    "\n",
    "* Optional: give the displayed data cleaner formatting\n",
    "\n",
    "\n",
    "* Display a preview of the summary data frame\n",
    "\n"
   ]
  },
  {
   "cell_type": "code",
   "execution_count": 49,
   "metadata": {},
   "outputs": [
    {
     "data": {
      "text/html": [
       "<style  type=\"text/css\" >\n",
       "</style><table id=\"T_393a8_\" ><thead>    <tr>        <th class=\"blank\" ></th>        <th class=\"blank level0\" ></th>        <th class=\"col_heading level0 col0\" >Purchase Count</th>        <th class=\"col_heading level0 col1\" >Item Price</th>        <th class=\"col_heading level0 col2\" >Total Purchase Value</th>    </tr>    <tr>        <th class=\"index_name level0\" >Item ID</th>        <th class=\"index_name level1\" >Item Name</th>        <th class=\"blank\" ></th>        <th class=\"blank\" ></th>        <th class=\"blank\" ></th>    </tr></thead><tbody>\n",
       "                <tr>\n",
       "                        <th id=\"T_393a8_level0_row0\" class=\"row_heading level0 row0\" >92</th>\n",
       "                        <th id=\"T_393a8_level1_row0\" class=\"row_heading level1 row0\" >Final Critic</th>\n",
       "                        <td id=\"T_393a8_row0_col0\" class=\"data row0 col0\" >13</td>\n",
       "                        <td id=\"T_393a8_row0_col1\" class=\"data row0 col1\" >$4.61</td>\n",
       "                        <td id=\"T_393a8_row0_col2\" class=\"data row0 col2\" >$59.99</td>\n",
       "            </tr>\n",
       "            <tr>\n",
       "                        <th id=\"T_393a8_level0_row1\" class=\"row_heading level0 row1\" >178</th>\n",
       "                        <th id=\"T_393a8_level1_row1\" class=\"row_heading level1 row1\" >Oathbreaker, Last Hope of the Breaking Storm</th>\n",
       "                        <td id=\"T_393a8_row1_col0\" class=\"data row1 col0\" >12</td>\n",
       "                        <td id=\"T_393a8_row1_col1\" class=\"data row1 col1\" >$4.23</td>\n",
       "                        <td id=\"T_393a8_row1_col2\" class=\"data row1 col2\" >$50.76</td>\n",
       "            </tr>\n",
       "            <tr>\n",
       "                        <th id=\"T_393a8_level0_row2\" class=\"row_heading level0 row2\" >145</th>\n",
       "                        <th id=\"T_393a8_level1_row2\" class=\"row_heading level1 row2\" >Fiery Glass Crusader</th>\n",
       "                        <td id=\"T_393a8_row2_col0\" class=\"data row2 col0\" >9</td>\n",
       "                        <td id=\"T_393a8_row2_col1\" class=\"data row2 col1\" >$4.58</td>\n",
       "                        <td id=\"T_393a8_row2_col2\" class=\"data row2 col2\" >$41.22</td>\n",
       "            </tr>\n",
       "            <tr>\n",
       "                        <th id=\"T_393a8_level0_row3\" class=\"row_heading level0 row3\" >132</th>\n",
       "                        <th id=\"T_393a8_level1_row3\" class=\"row_heading level1 row3\" >Persuasion</th>\n",
       "                        <td id=\"T_393a8_row3_col0\" class=\"data row3 col0\" >9</td>\n",
       "                        <td id=\"T_393a8_row3_col1\" class=\"data row3 col1\" >$3.22</td>\n",
       "                        <td id=\"T_393a8_row3_col2\" class=\"data row3 col2\" >$28.99</td>\n",
       "            </tr>\n",
       "            <tr>\n",
       "                        <th id=\"T_393a8_level0_row4\" class=\"row_heading level0 row4\" >108</th>\n",
       "                        <th id=\"T_393a8_level1_row4\" class=\"row_heading level1 row4\" >Extraction, Quickblade Of Trembling Hands</th>\n",
       "                        <td id=\"T_393a8_row4_col0\" class=\"data row4 col0\" >9</td>\n",
       "                        <td id=\"T_393a8_row4_col1\" class=\"data row4 col1\" >$3.53</td>\n",
       "                        <td id=\"T_393a8_row4_col2\" class=\"data row4 col2\" >$31.77</td>\n",
       "            </tr>\n",
       "    </tbody></table>"
      ],
      "text/plain": [
       "<pandas.io.formats.style.Styler at 0x1c02a4d0460>"
      ]
     },
     "execution_count": 49,
     "metadata": {},
     "output_type": "execute_result"
    }
   ],
   "source": [
    "items_df = purchase_data[['Item ID', 'Item Name', 'Price']]\n",
    "\n",
    "items_grouped = items_df.groupby(['Item ID', 'Item Name'])\n",
    "\n",
    "item_purchases = items_grouped['Price'].count()\n",
    "\n",
    "purchase_value = items_grouped['Price'].sum()\n",
    "\n",
    "item_price = purchase_value/item_purchases\n",
    "\n",
    "popular_items_df = pd.DataFrame({'Purchase Count': item_purchases,\n",
    "                                'Item Price': item_price,\n",
    "                                'Total Purchase Value': purchase_value})\n",
    "\n",
    "popular_items_formatted = popular_items_df.sort_values([\"Purchase Count\"], ascending=False).head()\n",
    "\n",
    "popular_items_formatted.style.format({\"Item Price\":\"${:,.2f}\",\n",
    "                                \"Total Purchase Value\":\"${:,.2f}\"})"
   ]
  },
  {
   "cell_type": "markdown",
   "metadata": {},
   "source": [
    "## Most Profitable Items"
   ]
  },
  {
   "cell_type": "markdown",
   "metadata": {},
   "source": [
    "* Sort the above table by total purchase value in descending order\n",
    "\n",
    "\n",
    "* Optional: give the displayed data cleaner formatting\n",
    "\n",
    "\n",
    "* Display a preview of the data frame\n",
    "\n"
   ]
  },
  {
   "cell_type": "code",
   "execution_count": 48,
   "metadata": {
    "scrolled": true
   },
   "outputs": [
    {
     "data": {
      "text/html": [
       "<style  type=\"text/css\" >\n",
       "</style><table id=\"T_1067a_\" ><thead>    <tr>        <th class=\"blank\" ></th>        <th class=\"blank level0\" ></th>        <th class=\"col_heading level0 col0\" >Purchase Count</th>        <th class=\"col_heading level0 col1\" >Item Price</th>        <th class=\"col_heading level0 col2\" >Total Purchase Value</th>    </tr>    <tr>        <th class=\"index_name level0\" >Item ID</th>        <th class=\"index_name level1\" >Item Name</th>        <th class=\"blank\" ></th>        <th class=\"blank\" ></th>        <th class=\"blank\" ></th>    </tr></thead><tbody>\n",
       "                <tr>\n",
       "                        <th id=\"T_1067a_level0_row0\" class=\"row_heading level0 row0\" >92</th>\n",
       "                        <th id=\"T_1067a_level1_row0\" class=\"row_heading level1 row0\" >Final Critic</th>\n",
       "                        <td id=\"T_1067a_row0_col0\" class=\"data row0 col0\" >13</td>\n",
       "                        <td id=\"T_1067a_row0_col1\" class=\"data row0 col1\" >$4.61</td>\n",
       "                        <td id=\"T_1067a_row0_col2\" class=\"data row0 col2\" >$59.99</td>\n",
       "            </tr>\n",
       "            <tr>\n",
       "                        <th id=\"T_1067a_level0_row1\" class=\"row_heading level0 row1\" >178</th>\n",
       "                        <th id=\"T_1067a_level1_row1\" class=\"row_heading level1 row1\" >Oathbreaker, Last Hope of the Breaking Storm</th>\n",
       "                        <td id=\"T_1067a_row1_col0\" class=\"data row1 col0\" >12</td>\n",
       "                        <td id=\"T_1067a_row1_col1\" class=\"data row1 col1\" >$4.23</td>\n",
       "                        <td id=\"T_1067a_row1_col2\" class=\"data row1 col2\" >$50.76</td>\n",
       "            </tr>\n",
       "            <tr>\n",
       "                        <th id=\"T_1067a_level0_row2\" class=\"row_heading level0 row2\" >145</th>\n",
       "                        <th id=\"T_1067a_level1_row2\" class=\"row_heading level1 row2\" >Fiery Glass Crusader</th>\n",
       "                        <td id=\"T_1067a_row2_col0\" class=\"data row2 col0\" >9</td>\n",
       "                        <td id=\"T_1067a_row2_col1\" class=\"data row2 col1\" >$4.58</td>\n",
       "                        <td id=\"T_1067a_row2_col2\" class=\"data row2 col2\" >$41.22</td>\n",
       "            </tr>\n",
       "            <tr>\n",
       "                        <th id=\"T_1067a_level0_row3\" class=\"row_heading level0 row3\" >108</th>\n",
       "                        <th id=\"T_1067a_level1_row3\" class=\"row_heading level1 row3\" >Extraction, Quickblade Of Trembling Hands</th>\n",
       "                        <td id=\"T_1067a_row3_col0\" class=\"data row3 col0\" >9</td>\n",
       "                        <td id=\"T_1067a_row3_col1\" class=\"data row3 col1\" >$3.53</td>\n",
       "                        <td id=\"T_1067a_row3_col2\" class=\"data row3 col2\" >$31.77</td>\n",
       "            </tr>\n",
       "            <tr>\n",
       "                        <th id=\"T_1067a_level0_row4\" class=\"row_heading level0 row4\" >132</th>\n",
       "                        <th id=\"T_1067a_level1_row4\" class=\"row_heading level1 row4\" >Persuasion</th>\n",
       "                        <td id=\"T_1067a_row4_col0\" class=\"data row4 col0\" >9</td>\n",
       "                        <td id=\"T_1067a_row4_col1\" class=\"data row4 col1\" >$3.22</td>\n",
       "                        <td id=\"T_1067a_row4_col2\" class=\"data row4 col2\" >$28.99</td>\n",
       "            </tr>\n",
       "    </tbody></table>"
      ],
      "text/plain": [
       "<pandas.io.formats.style.Styler at 0x1c02a4cfcd0>"
      ]
     },
     "execution_count": 48,
     "metadata": {},
     "output_type": "execute_result"
    }
   ],
   "source": [
    "profitable_sort = popular_items_formatted.sort_values(['Total Purchase Value'], ascending=False).head()\n",
    "profitable_sort.style.format({'Item Price': '${:,.2f}',\n",
    "                                  'Total Purchase Value': '${:,.2f}'})"
   ]
  }
 ],
 "metadata": {
  "anaconda-cloud": {},
  "kernel_info": {
   "name": "python3"
  },
  "kernelspec": {
   "display_name": "Python 3",
   "language": "python",
   "name": "python3"
  },
  "language_info": {
   "codemirror_mode": {
    "name": "ipython",
    "version": 3
   },
   "file_extension": ".py",
   "mimetype": "text/x-python",
   "name": "python",
   "nbconvert_exporter": "python",
   "pygments_lexer": "ipython3",
   "version": "3.8.8"
  },
  "latex_envs": {
   "LaTeX_envs_menu_present": true,
   "autoclose": false,
   "autocomplete": true,
   "bibliofile": "biblio.bib",
   "cite_by": "apalike",
   "current_citInitial": 1,
   "eqLabelWithNumbers": true,
   "eqNumInitial": 1,
   "hotkeys": {
    "equation": "Ctrl-E",
    "itemize": "Ctrl-I"
   },
   "labels_anchors": false,
   "latex_user_defs": false,
   "report_style_numbering": false,
   "user_envs_cfg": false
  },
  "nteract": {
   "version": "0.2.0"
  }
 },
 "nbformat": 4,
 "nbformat_minor": 2
}
